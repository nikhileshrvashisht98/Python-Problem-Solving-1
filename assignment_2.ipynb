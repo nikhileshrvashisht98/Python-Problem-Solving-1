{
 "cells": [
  {
   "cell_type": "code",
   "execution_count": 7,
   "id": "f872ca7f-8722-4516-b805-9ab2e62cb0f6",
   "metadata": {},
   "outputs": [
    {
     "data": {
      "text/plain": [
       "6"
      ]
     },
     "execution_count": 7,
     "metadata": {},
     "output_type": "execute_result"
    }
   ],
   "source": [
    "#Question1\n",
    "a = 0\n",
    "def b():\n",
    "    global a\n",
    "    a = c(a)\n",
    "def c(a):\n",
    "    return a + 2\n",
    "b()\n",
    "b()\n",
    "b()\n",
    "a"
   ]
  },
  {
   "cell_type": "code",
   "execution_count": null,
   "id": "d74a2383-92a5-45f5-a38d-2b3a763160f8",
   "metadata": {},
   "outputs": [],
   "source": [
    "1. When the function is called for the first time, b(), a will have the value as 0 and it is passed as an argument and a = c(0) will return 2 to the variable a. And since it is a global variable, it is accessible throughout the code\n",
    "2. second time, a will be equal to 2, when a = c(a) is executed that is c(2) is called, it will return 4\n",
    "3. third time, a will be equal to 4, when a = c(a) is executed that is c(4) is called, it will return 6. Now variable a value is 6. And when the interpreter sees the variable a in the last line, it will print its value"
   ]
  },
  {
   "cell_type": "code",
   "execution_count": 16,
   "id": "49b4e340-0fc4-4b3f-bdbe-a7cdbb8bb7be",
   "metadata": {},
   "outputs": [
    {
     "name": "stdout",
     "output_type": "stream",
     "text": [
      "92\n"
     ]
    }
   ],
   "source": [
    "#Question2\n",
    "import os\n",
    "os.getcwd()\n",
    "def fileLength(filename):\n",
    "    count = 0\n",
    "    try:\n",
    "        # f = open(filname,\"r\")\n",
    "        for line in filename:\n",
    "            count+=1\n",
    "            # print(count)\n",
    "    except:\n",
    "        print(\"{} : file not found, please enter a valid file name\".format(filename))\n",
    "    if count>0:\n",
    "        print(count)\n",
    "# fileLength(r\"C:\\Users\\Nik - georgian\\Desktop\\BDAT\\1st sem\\Data Programming\\Week 3\\Week 3\\assignment_1\\curren.txt\")\n",
    "fname = r\"C:\\Users\\Nik - georgian\\Desktop\\BDAT\\1st sem\\Data Programming\\assignment_2\\line_numbers1.txt\"\n",
    "fileLength(filename=fname)"
   ]
  },
  {
   "cell_type": "code",
   "execution_count": 10,
   "id": "3a31cf49-1adf-4c74-a500-129d49ff65a1",
   "metadata": {},
   "outputs": [
    {
     "name": "stdout",
     "output_type": "stream",
     "text": [
      "Desktop/BDAT/1st sem/Data Programming/assignment2/untitled.txt : file not found, please enter a valid file name\n",
      "0\n"
     ]
    }
   ],
   "source": [
    "def fileLength(filename):\n",
    "    count = 0\n",
    "    try:\n",
    "        f = open(filname)\n",
    "        for line in f:\n",
    "            count+=1\n",
    "    except:\n",
    "        print(\"{} : file not found, please enter a valid file name\".format(filename))\n",
    "    \n",
    "    print(count)\n",
    "a = \"\"\n",
    "fileLength(\"Desktop/BDAT/1st sem/Data Programming/assignment2/untitled.txt\")\n"
   ]
  },
  {
   "cell_type": "code",
   "execution_count": 43,
   "id": "4a5ddf85-41c5-49ee-94e5-bb69479b9c6d",
   "metadata": {},
   "outputs": [
    {
     "name": "stdout",
     "output_type": "stream",
     "text": [
      "['doll', 'firetruck', 'kitten']\n",
      "I am a Kangaroo located at coordinates (0,0)\n",
      "I am a Kangaroo located at coordinates (3,0)\n"
     ]
    }
   ],
   "source": [
    "#Question3\n",
    "\n",
    "\n",
    "\n",
    "class Marsupial:\n",
    "    def __init__(self):\n",
    "        \n",
    "        self.lists = []\n",
    "    \n",
    "    def put_in_pouch(self,item):\n",
    "        self.lists.append(item)\n",
    "    \n",
    "    def pouch_contents(self):\n",
    "        print(self.lists)\n",
    "        return self.lists\n",
    "        \n",
    "        \n",
    "        \n",
    "m = Marsupial()\n",
    "m.put_in_pouch('doll')\n",
    "m.put_in_pouch('firetruck')\n",
    "m.put_in_pouch('kitten')\n",
    "m.pouch_contents()\n",
    "class Kangaroo(Marsupial):\n",
    "    def __init__(self, x,y):\n",
    "        super().__init__()\n",
    "        self.x= x\n",
    "        self.y = y\n",
    "        self.dictio = {}\n",
    "    def __str__(self):\n",
    "        return 'I am a Kangaroo located at coordinates ({},{})'.format(self.x,self.y)\n",
    "    \n",
    "    def jump(self,a,b):\n",
    "        self.x+=a\n",
    "        self.y+=b\n",
    "        \n",
    "k = Kangaroo(0,0)\n",
    "print(k)\n",
    "k.jump(1,0)\n",
    "k.jump(1,0)\n",
    "k.jump(1,0)\n",
    "print(k)"
   ]
  },
  {
   "cell_type": "code",
   "execution_count": 60,
   "id": "7da57809-222b-46c9-afc9-af24b5532602",
   "metadata": {},
   "outputs": [
    {
     "name": "stdout",
     "output_type": "stream",
     "text": [
      "10\n",
      "5\n",
      "16\n",
      "8\n",
      "4\n",
      "2\n",
      "1\n"
     ]
    }
   ],
   "source": [
    "#QUESTION4\n",
    "import sys\n",
    "def collatz(n):\n",
    "    n = int(n)\n",
    "    if n!=1:\n",
    "        print(n)\n",
    "    if n == 1:\n",
    "        print(n)\n",
    "        return\n",
    "    elif n % 2 == 0 :        \n",
    "        collatz(n/2)     \n",
    "    else:        \n",
    "        collatz(n*3+1)    \n",
    "collatz(10)"
   ]
  },
  {
   "cell_type": "code",
   "execution_count": 70,
   "id": "8d940b88-ad6e-483f-84f6-ceca9d0227d6",
   "metadata": {},
   "outputs": [
    {
     "name": "stdout",
     "output_type": "stream",
     "text": [
      "0\n",
      "1\n",
      "11\n",
      "1001\n"
     ]
    }
   ],
   "source": [
    "#Question5\n",
    "def binary(n):\n",
    "    n = int(n)\n",
    "    if n == 0:\n",
    "        return 0\n",
    "    return n%2+10*binary(n/2)\n",
    "print(binary(0))\n",
    "print(binary(1))\n",
    "print(binary(3))\n",
    "print(binary(9))"
   ]
  },
  {
   "cell_type": "code",
   "execution_count": 138,
   "id": "49cb5e91-436e-4403-aad7-0996fdfd547b",
   "metadata": {},
   "outputs": [
    {
     "name": "stdout",
     "output_type": "stream",
     "text": [
      "W3C Mission\n",
      " Principles\n"
     ]
    }
   ],
   "source": [
    "#Question6\n",
    "\n",
    "from html.parser import HTMLParser\n",
    "import requests\n",
    "from bs4 import BeautifulSoup\n",
    "\n",
    "\n",
    "# fname = r\"C:\\Users\\Nik - georgian\\Desktop\\BDAT\\1st sem\\Data Programming\\assignment_2\\w3c.html\"\n",
    "# f = open(fname)\n",
    "# html_text = f.read()\n",
    "class HeadingParser:\n",
    "    def feed(self,html_text):\n",
    "        # print(html_text)\n",
    "        soup = BeautifulSoup(html_text, 'html.parser')\n",
    "        # print(soup)\n",
    "        heading_dict = {}\n",
    "        for i in range(1,7): #because there are only 6 levels of headings in HTML\n",
    "            headings = \"h\"+str(i)\n",
    "\n",
    "            if soup.find(headings):\n",
    "                results = soup.find(headings)\n",
    "                if headings not in heading_dict:            \n",
    "                    heading_dict[headings] = [results.text] # to create a keys of unique headings..that is h1,h2,h3,h4,h5 and h6\n",
    "                else:\n",
    "                    heading_dict[headings].append(results.text) #will append as a list to the specific headings\n",
    "                # print(results.prettify())\n",
    "                # print(results.text)\n",
    "        # print(heading_dict.keys())\n",
    "        for key,values in heading_dict.items():\n",
    "            # while i < 6:        \n",
    "            if key == \"h1\":\n",
    "                for i in heading_dict[key]:\n",
    "                    print(\"\"+i)\n",
    "            if key == \"h2\":\n",
    "                for i in heading_dict[key]:\n",
    "                    print(\" \"+i)\n",
    "            if key == \"h3\":\n",
    "                for i in heading_dict[key]:\n",
    "                    print(\"  \"+i)\n",
    "            if key == \"h4\":\n",
    "                for i in heading_dict[key]:        print(\"   \"+i)\n",
    "            if key == \"h5\":\n",
    "                for i in heading_dict[key]:        print(\"    \"+i)\n",
    "            if key == \"h6\":\n",
    "                for i in heading_dict[key]:        print(\"     \"+i)\n",
    "    \n",
    "\n",
    "    \n",
    "infile = open(r\"C:\\Users\\Nik - georgian\\Desktop\\BDAT\\1st sem\\Data Programming\\assignment_2\\w3c.html\")\n",
    "content = infile.read()\n",
    "infile.close()\n",
    "hp = HeadingParser()\n",
    "hp.feed(content) "
   ]
  },
  {
   "cell_type": "code",
   "execution_count": 136,
   "id": "8f1f5127-91a7-4eb8-9d75-ac60876710a1",
   "metadata": {},
   "outputs": [
    {
     "name": "stdout",
     "output_type": "stream",
     "text": [
      "<class 'NoneType'>\n",
      "html\n",
      "<class 'NoneType'>\n",
      "<class 'NoneType'>\n",
      "head\n",
      "<class 'NoneType'>\n",
      "meta\n",
      "<class 'NoneType'>\n",
      "meta\n",
      "<class 'NoneType'>\n",
      "title\n",
      "<class 'NoneType'>\n",
      "meta\n",
      "<class 'NoneType'>\n",
      "meta\n",
      "<class 'NoneType'>\n",
      "link\n",
      "<class 'NoneType'>\n",
      "<class 'NoneType'>\n",
      "<class 'NoneType'>\n",
      "body\n",
      "<class 'NoneType'>\n",
      "<class 'NoneType'>\n",
      "h1\n",
      "<class 'NoneType'>\n",
      "h2\n",
      "<class 'NoneType'>\n",
      "<class 'NoneType'>\n",
      "<class 'NoneType'>\n",
      "<class 'NoneType'>\n",
      "<class 'NoneType'>\n",
      "<class 'NoneType'>\n"
     ]
    }
   ],
   "source": [
    "# Question6\n",
    "#reference for some of the code below : https://docs.python.org/3/library/html.parser.html\n",
    "'''\n",
    "from html.parser import HTMLParser\n",
    "import requests\n",
    "from bs4 import BeautifulSoup\n",
    "\n",
    "heading_dict = {\"h1\":[],\"h2\":[],\"h3\":[],\"h4\":[],\"h5\":[],\"h6\":[]}\n",
    "class MyHTMLParser(HTMLParser):\n",
    "    # def __init__(self):\n",
    "         \n",
    "        \n",
    "    def handle_starttag(self, tag, attrs):\n",
    "        print(tag)\n",
    "        # if tag in heading_dict.keys():\n",
    "            # self.links.append(attrs['href'])\n",
    "            # print(self.links)\n",
    "            # print(attrs[tag])\n",
    "        \n",
    "        \n",
    "            \n",
    "        # print(\"Encountered a start tag:\", tag)\n",
    "\n",
    "    def handle_endtag(self, tag):\n",
    "        pass\n",
    "        # print(\"Encountered an end tag :\", tag)\n",
    "\n",
    "    def handle_data(self, data):\n",
    "        # print(self.handle_starttag)\n",
    "        if self.handle_starttag in heading_dict:\n",
    "            heading_dict[self.handle_starttag] = data\n",
    "        # print(\"Encountered some data  :\", data)\n",
    "        # print(heading_dict)\n",
    "\n",
    "\n",
    "\n",
    "parser = HeadingParser()\n",
    "fname = r\"C:\\Users\\Nik - georgian\\Desktop\\BDAT\\1st sem\\Data Programming\\assignment_2\\w3c.html\"\n",
    "f = open(fname)\n",
    "# html_text = f.read()\n",
    "parser = MyHTMLParser()\n",
    "for html_text in f:\n",
    "    \n",
    "    a = parser.feed(html_text)\n",
    "    print(type(a))'''"
   ]
  },
  {
   "cell_type": "code",
   "execution_count": 150,
   "id": "82f86085-cea9-4250-8a0f-8e8a771b8998",
   "metadata": {},
   "outputs": [
    {
     "name": "stdout",
     "output_type": "stream",
     "text": [
      "    https://www.amazon.ca/s?k=laptop&crid=XF6TBDQS6FIH&sprefix=laptop&ref=nb_sb_noss_1&page=4\n",
      "   https://www.amazon.ca/s?k=laptop&crid=XF6TBDQS6FIH&sprefix=laptop&ref=nb_sb_noss_1&page=3\n",
      "  https://www.amazon.ca/s?k=laptop&crid=XF6TBDQS6FIH&sprefix=laptop&ref=nb_sb_noss_1&page=2\n",
      " https://www.amazon.ca/s?k=laptop&crid=XF6TBDQS6FIH&sprefix=laptop&ref=nb_sb_noss_1&page=1\n"
     ]
    }
   ],
   "source": [
    "#Question 7\n",
    "def webdir(url,depth,indent):\n",
    "    if depth <=0 :\n",
    "        return\n",
    "    else :\n",
    "        \n",
    "        if 'page' not in url:\n",
    "            pagination_url = url + \"&page=\" + str(depth)\n",
    "        else:\n",
    "            pagination_url = url.split(\"&page\")[0]+\"&page=\" + str(depth)\n",
    "        # print(pagination_url)\n",
    "        for i in range(depth+1):\n",
    "            if i == depth:\n",
    "                print(pagination_url)\n",
    "            else:\n",
    "                print(\" \",end=\"\")\n",
    "        depth -=1\n",
    "        webdir(pagination_url,depth,indent)\n",
    "    \n",
    "    \n",
    "webdir(url = \"https://www.amazon.ca/s?k=laptop&crid=XF6TBDQS6FIH&sprefix=laptop&ref=nb_sb_noss_1\",depth = 4,indent = 0)"
   ]
  },
  {
   "cell_type": "markdown",
   "id": "ef2431d4-e8fb-4961-ace3-f933a8a9ffc1",
   "metadata": {},
   "source": [
    "#Question 8\n",
    "City Country Season Temperature(C) Rainfall(mm)\n",
    "Mumbai India Winter 24.8 5.9\n",
    "Mumbai India Spring 28.4 16.2\n",
    "Mumbai India Summer 27.9 1549.4\n",
    "Mumbai India Fall 27.6 346.0\n",
    "London United Kingdom Winter 4.2 207.7\n",
    "London United Kingdom Spring 8.3 169.6\n",
    "London United Kingdom Summer 15.7 157.0\n",
    "London United Kingdom Fall 10.4 218.5\n",
    "Cairo Egypt Winter 13.6 16.5\n",
    "Cairo Egypt Spring 20.7 6.5\n",
    "Cairo Egypt Summer 27.7 0.1 B\n",
    "Cairo Egypt Fall 22.2 4.5\n",
    "a) All the temperature data.\n",
    "b) All the cities, but without repetition.\n",
    "c) All the records for India.\n",
    "d) All the Fall records.\n",
    "e) The city, country, and season for which the average rainfall is between 200\n",
    "and 400 millimeters.\n",
    "f) The city and country for which the average Fall temperature is above 20\n",
    "degrees, in increasing temperature order.\n",
    "g) The total annual rainfall for Cairo.\n",
    "h) The total rainfall for each season."
   ]
  },
  {
   "cell_type": "markdown",
   "id": "bae222ec-b90f-4b3f-8bca-fe17adcda5a6",
   "metadata": {},
   "source": [
    "#Question 8 answers\n",
    "\n",
    "a. SELECT Temperature\n",
    "    FROM climate_data;\n",
    "\n",
    "b. SELECT Distinct City\n",
    "    FROM climate_data;\n",
    "\n",
    "c. SELECT * from climate_data \n",
    "    WHERE country = India;\n",
    "\n",
    "d. SELECT * from climate_data \n",
    "    WHERE season = Fall;\n",
    "\n",
    "e. SELECT City, Country, Season \n",
    "    from climate_data \n",
    "        WHERE Rainfall >= 200 and Rainfall <=400;\n",
    "\n",
    "f SELECT City, Country,\n",
    "    from climate_data \n",
    "        WHERE Season like 'Fall' and Temperature > 20\n",
    "            ORDER By Temperature;\n",
    "g. SELECT SUM(Rainfall) , City\n",
    "    from climate_data \n",
    "        WHERE City like 'Cairo';\n",
    "        \n",
    "h. SELECT SUM(Rainfall), Season\n",
    "    FROM climate_data\n",
    "        GROUP BY Season;"
   ]
  },
  {
   "cell_type": "code",
   "execution_count": 47,
   "id": "a4af9042-5929-4b69-9e88-77f56e7358c6",
   "metadata": {},
   "outputs": [
    {
     "name": "stdout",
     "output_type": "stream",
     "text": [
      "['THE', 'QUICK', 'BROWN', 'FOX', 'JUMPS', 'OVER', 'THE', 'LAZY', 'DOG']\n",
      "['the', 'quick', 'brown', 'fox', 'jumps', 'over', 'the', 'lazy', 'dog']\n",
      "[3, 5, 5, 3, 5, 4, 3, 4, 3]\n",
      "[['THE', 'the', 3], ['QUICK', 'quick', 5], ['BROWN', 'brown', 5], ['FOX', 'fox', 3], ['JUMPS', 'jumps', 5], ['OVER', 'over', 4], ['THE', 'the', 3], ['LAZY', 'lazy', 4], ['DOG', 'dog', 3]]\n",
      "['quick', 'brown', 'jumps', 'over', 'lazy']\n"
     ]
    }
   ],
   "source": [
    "#QUESTION9\n",
    "\n",
    "words = ['The', 'quick', 'brown', 'fox', 'jumps', 'over','the', 'lazy', 'dog']\n",
    "upper_case_words=  [x.upper() for x in words]\n",
    "print(upper_case_words)\n",
    "\n",
    "lower_case_words=  [x.lower() for x in words]\n",
    "print(lower_case_words)\n",
    "\n",
    "length_words = [len(x) for x in words]\n",
    "print(length_words)\n",
    "\n",
    "upper_lower_length = [[x.upper(),x.lower(),len(x)] for x in words]\n",
    "print(upper_lower_length)\n",
    "\n",
    "length_words_4 = [x for x in words if len(x) >=4]\n",
    "print(length_words_4)\n"
   ]
  }
 ],
 "metadata": {
  "kernelspec": {
   "display_name": "Python 3 (ipykernel)",
   "language": "python",
   "name": "python3"
  },
  "language_info": {
   "codemirror_mode": {
    "name": "ipython",
    "version": 3
   },
   "file_extension": ".py",
   "mimetype": "text/x-python",
   "name": "python",
   "nbconvert_exporter": "python",
   "pygments_lexer": "ipython3",
   "version": "3.9.12"
  }
 },
 "nbformat": 4,
 "nbformat_minor": 5
}
