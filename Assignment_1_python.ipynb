{
 "cells": [
  {
   "cell_type": "code",
   "execution_count": 22,
   "id": "ac0a4511-e095-4679-977b-b9e98c0ff1d2",
   "metadata": {},
   "outputs": [
    {
     "name": "stdin",
     "output_type": "stream",
     "text": [
      "Enter the word \n",
      " structured\n"
     ]
    },
    {
     "name": "stdout",
     "output_type": "stream",
     "text": [
      "tructuredsay\n"
     ]
    }
   ],
   "source": [
    "'''Question 6 Python\n",
    "16. You can turn a word into pig-Latin using the following two rules(simplified):\n",
    "• If the word starts with a consonant, move that letter to the end and append\n",
    "'ay'. For example, 'happy' becomes 'appyhay' and 'pencil' becomes 'encilpay'.\n",
    "• If the word starts with a vowel, simply append 'way' to the end of the word.\n",
    "For example, 'enter' becomes 'enterway' and 'other' becomes 'otherway' . For\n",
    "our purposes, there are 5 vowels: a, e, i, o, u (so we count y as a consonant).\n",
    "Write a function pig() that takes a word (i.e., a string) as input and returns its pigLatin form. Your function should still work if the input word contains upper case\n",
    "characters. Your output should always be lower case however.\n",
    ">>> pig('happy')\n",
    "'appyhay'\n",
    ">>> pig('Enter')\n",
    "'enterway'''\n",
    "\n",
    "\n",
    "\n",
    "def pig():\n",
    "    vowels = ['a','e','i','o','u']\n",
    "    word = input(\"Enter the word \\n\")\n",
    "#     print(word[1:len(word)])\n",
    "    if word[0] not in vowels:\n",
    "        final_word_pig_latin = word[1:len(word)]+word[0]+'ay'\n",
    "    else:\n",
    "        final_word_pig_latin = word+'way'\n",
    "    print(final_word_pig_latin)\n",
    "if __name__ == '__main__':\n",
    "    pig()"
   ]
  },
  {
   "cell_type": "code",
   "execution_count": 27,
   "id": "d4848d79-b5a4-4f41-a974-581c8dbf5ab7",
   "metadata": {},
   "outputs": [
    {
     "name": "stdout",
     "output_type": "stream",
     "text": [
      "There are 15 patients of blood type A\n",
      "There is one patients of blood type B\n",
      "There are 13 patients of blood type AB\n",
      "There are no patients of blood type OO\n",
      "There are 15 patients of blood type O\n"
     ]
    }
   ],
   "source": [
    "'''Question 7 Python\n",
    "File bloodtype1.txt records blood-types of patients (A, B, AB, O or OO) at a clinic.\n",
    "Write a function bldcount() that reads the file with name name and reports (i.e.,\n",
    "prints) how many patients there are in each bloodtype.\n",
    ">>> bldcount('bloodtype.txt')\n",
    "There are 10 patients of blood type A.\n",
    "There is one patient of blood type B.\n",
    "There are 10 patients of blood type AB.\n",
    "There are 12 patients of blood type O.\n",
    "There are no patients of blood type OO.'''\n",
    "\n",
    "def bloodgroupcount():    \n",
    "    f = open(r\"C:\\Users\\Nik - georgian\\Desktop\\BDAT\\1st sem\\Data Programming\\Week 3\\Week 3\\assignment_1\\bloodtype1.txt\",\"r\")\n",
    "    a = f.read()\n",
    "    # print(len(a.split(\" \")))\n",
    "    bloodgroups = {}\n",
    "    count_of_blood_group_A = a.split(\" \").count(\"A\")\n",
    "    count_of_blood_group_B = a.split(\" \").count(\"B\")\n",
    "    count_of_blood_group_AB = a.split(\" \").count(\"AB\")\n",
    "    count_of_blood_group_OO = a.split(\" \").count(\"OO\")\n",
    "    count_of_blood_group_O = a.split(\" \").count(\"O\")\n",
    "    bloodgroups[\"A\"] = count_of_blood_group_A\n",
    "    bloodgroups[\"B\"] = count_of_blood_group_B\n",
    "    bloodgroups[\"AB\"] = count_of_blood_group_AB\n",
    "    bloodgroups[\"OO\"] = count_of_blood_group_OO\n",
    "    bloodgroups[\"O\"] = count_of_blood_group_O\n",
    "\n",
    "    for key,value in bloodgroups.items():\n",
    "        if value > 0 and value!=1:\n",
    "            print(\"There are {} patients of blood type {}\".format(value,key))\n",
    "        elif value == 1:\n",
    "            print(\"There is one patients of blood type {}\".format(key))\n",
    "        else:\n",
    "            print(\"There are no patients of blood type {}\".format(key))\n",
    "if __name__ == '__main__':\n",
    "    bloodgroupcount()\n"
   ]
  },
  {
   "cell_type": "code",
   "execution_count": 24,
   "id": "46d118a3-24a2-40ab-aa4a-4cc63c8b2074",
   "metadata": {},
   "outputs": [
    {
     "name": "stdin",
     "output_type": "stream",
     "text": [
      "Enter the currency you want to be converted to USD\n",
      " JPY\n",
      "Enter the amount\n",
      " 100\n"
     ]
    },
    {
     "name": "stdout",
     "output_type": "stream",
     "text": [
      "amount in US dollars is 1.241401\n"
     ]
    }
   ],
   "source": [
    "'''Question 8 Python\n",
    "Write a function curconv() that takes as input:\n",
    "1. a currency represented using a string (e.g., 'JPY' for the Japanese Yen or\n",
    "'EUR' for the Euro)\n",
    "2. an amount\n",
    "and then converts and returns the amount in US dollars.\n",
    ">>> curconv('EUR', 100)\n",
    "122.96544\n",
    ">>> curconv('JPY', 100)\n",
    "1.241401\n",
    "The currency rates you will need are stored in file currencies.txt:\n",
    "AUD 1.0345157 Australian Dollar\n",
    "CHF 1.0237414 Swiss Franc\n",
    "CNY 0.1550176 Chinese Yuan\n",
    "BDAT 1004 – Data Programming\n",
    "DKK 0.1651442 Danish Krone\n",
    "EUR 1.2296544 Euro\n",
    "GBP 1.5550989 British Pound\n",
    "HKD 0.1270207 Hong Kong Dollar\n",
    "INR 0.0177643 Indian Rupee\n",
    "JPY 0.01241401 Japanese Yen\n",
    "MXN 0.0751848 Mexican Peso\n",
    "MYR 0.3145411 Malaysian Ringgit\n",
    "NOK 0.1677063 Norwegian Krone\n",
    "NZD 0.8003591 New Zealand Dollar\n",
    "PHP 0.0233234 Philippine Peso\n",
    "SEK 0.148269 Swedish Krona\n",
    "SGD 0.788871 Singapore Dollar\n",
    "THB 0.0313789 Thai Baht'''\n",
    "\n",
    "def curconv(cur,amount):    \n",
    "    f = open(r\"C:\\Users\\Nik - georgian\\Desktop\\BDAT\\1st sem\\Data Programming\\Week 3\\Week 3\\assignment_1\\currencies.txt\",\"r\")\n",
    "    for lines in f:\n",
    "#         print(lines)\n",
    "        a = lines.split(\" \")\n",
    "        if currency.lower() in a[0].lower():\n",
    "            usd = amount*float(a[1])\n",
    "    print(\"amount in US dollars is {}\".format(usd))\n",
    "            \n",
    "            \n",
    "if __name__ == '__main__':\n",
    "    currency = input(\"Enter the currency you want to be converted to USD\\n\")\n",
    "    amount = input(\"Enter the amount\\n\")\n",
    "    amount = float(amount)\n",
    "    curconv(cur=currency,amount=amount)\n",
    "    "
   ]
  },
  {
   "cell_type": "code",
   "execution_count": 25,
   "id": "d4f39b90-a394-4193-acae-73ec0de0094b",
   "metadata": {},
   "outputs": [
    {
     "name": "stdout",
     "output_type": "stream",
     "text": [
      "exception for the 1st one is\n",
      "unsupported operand type(s) for +: 'int' and 'str'\n",
      "exception for the 2nd one is\n",
      "list index out of range\n",
      "exception for the 3rd one is\n",
      "math domain error\n",
      "exception for the 4th one is\n",
      "name 'x' is not defined\n",
      "exception for the 5th one is\n",
      "[Errno 2] No such file or directory: 'C:\\\\Users\\\\Nik - georgian\\\\Desktop\\\\BDAT\\\\1st sem\\\\Data Programming\\\\Week 3\\\\Week 3\\\\assignment_1\\\\curren.txt'\n"
     ]
    }
   ],
   "source": [
    "'''Question 9 Python\n",
    "Each of the following will cause an exception (an error). Identify what type of\n",
    "exception each will cause.\n",
    "1. Trying to add incompatible variables, as in adding 6 + ‘a’\n",
    "2. Referring to the 12th item of a list that has only 10 items\n",
    "3. Using a value that is out ofrange for a function’s input, such as calling math.sqrt(-1.0)\n",
    "4. Using an undeclared variable, such as print(x) when x has not been defined\n",
    "5. Trying to open a file that does not exist, such as mistyping the file name or looking in the wrong directory.'''\n",
    "\n",
    "## code starts here\n",
    "\n",
    "print(\"exception for the 1st one is\")\n",
    "try:\n",
    "    a = 6+'a'\n",
    "except Exception as e:\n",
    "    print(str(e))\n",
    "\n",
    "print(\"exception for the 2nd one is\")\n",
    "try:\n",
    "    a = ['10',20,40,60,8,9,'yay','nay','hi','makes sense']\n",
    "#     print(len(a))\n",
    "    print(a[12])\n",
    "except Exception as e:\n",
    "    print(str(e))\n",
    "print(\"exception for the 3rd one is\")\n",
    "try:\n",
    "    import math\n",
    "    print(math.sqrt(-1.0))\n",
    "except Exception as e:\n",
    "    print(str(e))\n",
    "\n",
    "print(\"exception for the 4th one is\")\n",
    "try:\n",
    "    print(x)\n",
    "except Exception as e:\n",
    "    print(str(e))\n",
    "\n",
    "print(\"exception for the 5th one is\")\n",
    "try:\n",
    "    f = open(r\"C:\\Users\\Nik - georgian\\Desktop\\BDAT\\1st sem\\Data Programming\\Week 3\\Week 3\\assignment_1\\curren.txt\",\"r\")\n",
    "except Exception as e:\n",
    "    print(str(e))"
   ]
  },
  {
   "cell_type": "code",
   "execution_count": 26,
   "id": "097ea2b8",
   "metadata": {},
   "outputs": [
    {
     "name": "stdin",
     "output_type": "stream",
     "text": [
      "enter a word\n",
      " python rocks\n"
     ]
    },
    {
     "name": "stdout",
     "output_type": "stream",
     "text": [
      "[0, 0, 1, 0, 0, 0, 0, 1, 0, 0, 1, 0, 0, 1, 2, 1, 0, 1, 1, 1, 0, 0, 0, 0, 1, 0]\n"
     ]
    }
   ],
   "source": [
    "'''Question 10 Python\n",
    "Encryption is the process of hiding the meaning of a text by substituting letters in the\n",
    "message with other letters, according to some system. If the process is successful, no\n",
    "one but the intended recipient can understand the encrypted message. Cryptanalysis\n",
    "refers to attempts to undo the encryption, even if some details of the encryption are\n",
    "unknown (for example, if an encrypted message has been intercepted). The first step\n",
    "of cryptanalysis is often to build up a table of letter frequencies in the encrypted text.\n",
    "Assume that the string letters is already defined as\n",
    "'abcdefghijklmnopqrstuvwxyz'. Write a function called frequencies()\n",
    "that takes a string as its only parameter, and returns a list of integers, showing the\n",
    "number of times each character appears in the text. Your function may ignore any\n",
    "characters that are not in letters.\n",
    ">>> frequencies('The quick red fox got bored and went home.')\n",
    "[1, 1, 1, 3, 5, 1, 1, 2, 1, 0, 1, 0, 1, 2, 4, 0, 1, 2, 0, 2,\n",
    "1, 0, 1, 1, 0, 0]\n",
    ">>> frequencies('apple')'''\n",
    "\n",
    "##code starts here\n",
    "\n",
    "def frequencies(word):\n",
    "#     if word.isalpha():        \n",
    "    lst = []\n",
    "    alphabets = 'abcdefghijklmnopqrstuvwxyz'\n",
    "    # print(a.count('a'))\n",
    "    for indice in range(len(alphabets)):\n",
    "    #     print(alphabets[indice])\n",
    "#         print(word.count(alphabets[indice]))\n",
    "        lst.append(word.count(alphabets[indice]))\n",
    "    print(lst)\n",
    "#     else:\n",
    "#         print(\"Only alphabets need to be sent as input\")\n",
    "if __name__ == '__main__':\n",
    "    frequencies(input(\"enter a word\\n\"))"
   ]
  }
 ],
 "metadata": {
  "kernelspec": {
   "display_name": "Python 3 (ipykernel)",
   "language": "python",
   "name": "python3"
  },
  "language_info": {
   "codemirror_mode": {
    "name": "ipython",
    "version": 3
   },
   "file_extension": ".py",
   "mimetype": "text/x-python",
   "name": "python",
   "nbconvert_exporter": "python",
   "pygments_lexer": "ipython3",
   "version": "3.9.12"
  }
 },
 "nbformat": 4,
 "nbformat_minor": 5
}
